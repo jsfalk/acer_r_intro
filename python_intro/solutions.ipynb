{
 "cells": [
  {
   "cell_type": "code",
   "execution_count": null,
   "metadata": {},
   "outputs": [],
   "source": [
    "# imports and data for solutions\n",
    "import pandas as pd\n",
    "animal_df = pd.read_csv(\"data/animals.csv\")"
   ]
  },
  {
   "cell_type": "markdown",
   "metadata": {},
   "source": [
    "#### Exercise: remove\n",
    "\n",
    "To remove an element from a list, use `del` plus an index. You can use a single index or a range:"
   ]
  },
  {
   "cell_type": "code",
   "execution_count": null,
   "metadata": {},
   "outputs": [],
   "source": [
    "lst = [1, 2, 3, 4]\n",
    "print(lst)\n",
    "del lst[2] # delete the 3rd element (at index 2)\n",
    "print(lst)\n",
    "del lst[-2:] # delete from the 2nd to last element to the end of the list\n",
    "print(lst)"
   ]
  },
  {
   "cell_type": "markdown",
   "metadata": {},
   "source": [
    "Note that this does not return a new list, it modifies the original list."
   ]
  },
  {
   "cell_type": "markdown",
   "metadata": {},
   "source": [
    "#### Exercise: function"
   ]
  },
  {
   "cell_type": "code",
   "execution_count": null,
   "metadata": {},
   "outputs": [],
   "source": [
    "def times_ten(num):\n",
    "    return 10*num"
   ]
  },
  {
   "cell_type": "markdown",
   "metadata": {},
   "source": [
    "#### Exercise: location\n",
    "\n",
    "`animal_df.loc[2, 6]` combines two things that don't go together. `loc` expects named columns, but `6` is an index. You can fix this either by using `iloc` or by using the column name:"
   ]
  },
  {
   "cell_type": "code",
   "execution_count": null,
   "metadata": {},
   "outputs": [],
   "source": [
    "animal_df.iloc[2, 6]"
   ]
  },
  {
   "cell_type": "code",
   "execution_count": null,
   "metadata": {},
   "outputs": [],
   "source": [
    "animal_df.loc[2, 'taxa']"
   ]
  },
  {
   "cell_type": "markdown",
   "metadata": {},
   "source": [
    "#### Exercise: 100"
   ]
  },
  {
   "cell_type": "code",
   "execution_count": null,
   "metadata": {},
   "outputs": [],
   "source": [
    "# select rows then columns\n",
    "animal_df.iloc[-100:][['year', 'taxa']]"
   ]
  },
  {
   "cell_type": "code",
   "execution_count": null,
   "metadata": {},
   "outputs": [],
   "source": [
    "# select columns then rows\n",
    "animal_df[['year', 'taxa']].iloc[-100:]"
   ]
  },
  {
   "cell_type": "markdown",
   "metadata": {},
   "source": [
    "#### Exercise: column"
   ]
  },
  {
   "cell_type": "code",
   "execution_count": null,
   "metadata": {},
   "outputs": [],
   "source": [
    "animal_df['genus']"
   ]
  },
  {
   "cell_type": "code",
   "execution_count": null,
   "metadata": {},
   "outputs": [],
   "source": [
    "animal_df.genus"
   ]
  },
  {
   "cell_type": "code",
   "execution_count": null,
   "metadata": {},
   "outputs": [],
   "source": [
    "animal_df.loc[:, 'genus']"
   ]
  },
  {
   "cell_type": "code",
   "execution_count": null,
   "metadata": {},
   "outputs": [],
   "source": [
    "animal_df.iloc[:, 4]"
   ]
  },
  {
   "cell_type": "markdown",
   "metadata": {},
   "source": [
    "#### Exercise: object\n",
    "\n",
    "For an object, you get the total count, the number of unique values, the most frequent value, and the frequency of the most frequent value:"
   ]
  },
  {
   "cell_type": "code",
   "execution_count": null,
   "metadata": {},
   "outputs": [],
   "source": [
    "animal_df.genus.describe()"
   ]
  },
  {
   "cell_type": "markdown",
   "metadata": {},
   "source": [
    "#### Exercise: deviation"
   ]
  },
  {
   "cell_type": "code",
   "execution_count": null,
   "metadata": {},
   "outputs": [],
   "source": [
    "animal_df.weight.std()"
   ]
  },
  {
   "cell_type": "code",
   "execution_count": null,
   "metadata": {},
   "outputs": [],
   "source": [
    "animal_summary = animal_df.describe()\n",
    "animal_summary.loc['std', 'weight']"
   ]
  },
  {
   "cell_type": "markdown",
   "metadata": {},
   "source": [
    "#### Exercise: new column"
   ]
  },
  {
   "cell_type": "code",
   "execution_count": null,
   "metadata": {},
   "outputs": [],
   "source": [
    "cm_to_in = 1 / 2.56\n",
    "animal_df['hindfoot_in'] = animal_df['hindfoot_length'] * cm_to_in"
   ]
  },
  {
   "cell_type": "markdown",
   "metadata": {},
   "source": [
    "#### Exercise: conditional\n",
    "Print to the screen all data from `animal_df` for only kangaroo rats (column `genus` equals `'Dipodomys'`)"
   ]
  },
  {
   "cell_type": "code",
   "execution_count": null,
   "metadata": {},
   "outputs": [],
   "source": [
    "animal_df[animal_df.genus == 'Dipodomys']"
   ]
  },
  {
   "cell_type": "markdown",
   "metadata": {},
   "source": [
    "#### Exercise: combining conditions\n",
    "Print to the screen all data from `animal_df` for only kangaroo rats that weigh more than 170 grams (`weight`)"
   ]
  },
  {
   "cell_type": "code",
   "execution_count": null,
   "metadata": {},
   "outputs": [],
   "source": [
    "animal_df[(animal_df.genus == 'Dipodomys') & (animal_df.weight > 170)]"
   ]
  },
  {
   "cell_type": "markdown",
   "metadata": {},
   "source": [
    "#### Exercise: negative conditions\n",
    "Print to the screen all data from `animal_df` *except for* kangaroo rats that weigh more than 170 grams"
   ]
  },
  {
   "cell_type": "code",
   "execution_count": null,
   "metadata": {},
   "outputs": [],
   "source": [
    "# negate the previous condition\n",
    "animal_df[~((animal_df.genus == 'Dipodomys') & (animal_df.weight > 170))]"
   ]
  },
  {
   "cell_type": "code",
   "execution_count": null,
   "metadata": {},
   "outputs": [],
   "source": [
    "# alternate solution using De Morgan's laws\n",
    "animal_df[(animal_df.genus != 'Dipodomys') | (animal_df.weight <= 170)]"
   ]
  },
  {
   "cell_type": "markdown",
   "metadata": {},
   "source": [
    "#### Exercise: group\n",
    "Find the min and max hindfoot length fo each species in the data set"
   ]
  },
  {
   "cell_type": "code",
   "execution_count": null,
   "metadata": {},
   "outputs": [],
   "source": [
    "# one-liner\n",
    "result = animal_df.groupby('species').hindfoot_length.describe()[['min', 'max']]\n",
    "result.head()"
   ]
  },
  {
   "cell_type": "code",
   "execution_count": null,
   "metadata": {},
   "outputs": [],
   "source": [
    "# compute min and max separately\n",
    "grouped_lengths = animal_df.groupby('species').hindfoot_length\n",
    "min_lengths = grouped_lengths.min()\n",
    "max_lengths = grouped_lengths.max()"
   ]
  },
  {
   "cell_type": "markdown",
   "metadata": {},
   "source": [
    "#### Exercise: subgroup\n",
    "Find the number of kangaroo rats in this data set (`genus` equals `'Dipodomys'`). Try to do this once using `len()` and once using `count()`."
   ]
  },
  {
   "cell_type": "code",
   "execution_count": null,
   "metadata": {},
   "outputs": [],
   "source": [
    "# using len\n",
    "len(animal_df[animal_df.genus == 'Dipodomys'])"
   ]
  },
  {
   "cell_type": "markdown",
   "metadata": {},
   "source": [
    "`.count()` returns the number of non-missing values. Ideally we would use a record ID here, but since `year` is never missing, we can use it to get the count:"
   ]
  },
  {
   "cell_type": "code",
   "execution_count": null,
   "metadata": {},
   "outputs": [],
   "source": [
    "# using count\n",
    "animal_df.groupby('genus').year.count()"
   ]
  },
  {
   "cell_type": "markdown",
   "metadata": {},
   "source": [
    "#### Exercise: double group\n",
    "Write code that will display the number of kangaroo rats in this data set split by sex. Try to do this once using subsetting and once by grouping by two variables."
   ]
  },
  {
   "cell_type": "code",
   "execution_count": null,
   "metadata": {},
   "outputs": [],
   "source": [
    "# subsetting\n",
    "kangaroo_rats = animal_df[animal_df.genus == 'Dipodomys']\n",
    "kangaroo_rats.groupby('sex').year.count() # as above we use year, which is never missing\n",
    "\n",
    "# double groupby\n",
    "animal_df.groupby(['genus', 'sex']).year.count().loc['Dipodomys']"
   ]
  },
  {
   "cell_type": "markdown",
   "metadata": {},
   "source": [
    "#### Exercise: group max\n",
    "Find the heaviest animal observed in each year  \n",
    "(Hint: you probably want to use `idxmax` at some point)"
   ]
  },
  {
   "cell_type": "code",
   "execution_count": null,
   "metadata": {},
   "outputs": [],
   "source": [
    "heaviest_idx = animal_df.groupby('year').weight.idxmax()\n",
    "animal_df.iloc[heaviest_idx]"
   ]
  },
  {
   "cell_type": "markdown",
   "metadata": {},
   "source": [
    "#### Exercise: filter\n",
    "Mask (filter out) missing data from `animals_df` for `sex`, `hindfoot_length`, and `weight`. (Hint: check to see what categories exist for the column `sex`)."
   ]
  },
  {
   "cell_type": "code",
   "execution_count": null,
   "metadata": {},
   "outputs": [],
   "source": [
    "# `sex` uses 'not reported' rather than NaN\n",
    "animal_df.sex.unique()"
   ]
  },
  {
   "cell_type": "code",
   "execution_count": null,
   "metadata": {},
   "outputs": [],
   "source": [
    "# use mask\n",
    "animals_reduced = animal_df[~animal_df.sex.isna() & (animal_df.sex != \"not reported\") & \n",
    "                            ~animal_df.hindfoot_length.isna() & ~animal_df.weight.isna()]"
   ]
  },
  {
   "cell_type": "code",
   "execution_count": null,
   "metadata": {},
   "outputs": [],
   "source": [
    "# solution from instructional materials, using drop NaN\n",
    "animals_reduced = animal_df.dropna(subset = [\"sex\", \"hindfoot_length\", \"weight\"])\n",
    "# remove missing values that aren't NaN\n",
    "animals_reduced = animals_reduced[animals_reduced.sex != \"not reported\"]"
   ]
  },
  {
   "cell_type": "markdown",
   "metadata": {},
   "source": [
    "#### Exercise: tally, filter, and save\n",
    "Extract only rows for genera (genuses) that are observed at least 1000 times, and save it to a file called \"genera_reduced.csv\""
   ]
  },
  {
   "cell_type": "code",
   "execution_count": null,
   "metadata": {},
   "outputs": [],
   "source": [
    "# group by genus and count\n",
    "genera_counts = animal_df.groupby(\"genus\").genus.count()\n",
    "# reset index\n",
    "genera_counts = genera_counts.reset_index(name=\"counts\")\n",
    "# get list of genera to keep\n",
    "frequent_genera = genera_counts[genera_counts.counts > 1000]\n",
    "# select only genera in frequent genera\n",
    "genera_reduced = animal_df[animal_df.genus.isin(frequent_genera.genus)]\n",
    "# write to file\n",
    "genera_reduced.to_csv(\"data/genera_reduced.csv\", index=False)"
   ]
  }
 ],
 "metadata": {
  "kernelspec": {
   "display_name": "Python 3",
   "language": "python",
   "name": "python3"
  },
  "language_info": {
   "codemirror_mode": {
    "name": "ipython",
    "version": 3
   },
   "file_extension": ".py",
   "mimetype": "text/x-python",
   "name": "python",
   "nbconvert_exporter": "python",
   "pygments_lexer": "ipython3",
   "version": "3.7.6"
  }
 },
 "nbformat": 4,
 "nbformat_minor": 4
}
